{
 "cells": [
  {
   "cell_type": "markdown",
   "metadata": {},
   "source": [
    "# Linear Regression - 1 (without missing values)"
   ]
  },
  {
   "cell_type": "code",
   "execution_count": 271,
   "metadata": {},
   "outputs": [],
   "source": [
    "import numpy as np\n",
    "import pandas as pd\n",
    "from sklearn.linear_model import LinearRegression"
   ]
  },
  {
   "cell_type": "code",
   "execution_count": 272,
   "metadata": {},
   "outputs": [],
   "source": [
    "x = np.array([5, 15, 25, 35, 45, 55]).reshape((-1, 1)) #independent variable needs to be 2-D\n",
    "y = np.array([5, 20, 14, 32, 22, 38])"
   ]
  },
  {
   "cell_type": "code",
   "execution_count": 273,
   "metadata": {},
   "outputs": [],
   "source": [
    "model=LinearRegression()"
   ]
  },
  {
   "cell_type": "code",
   "execution_count": 274,
   "metadata": {},
   "outputs": [
    {
     "data": {
      "text/plain": [
       "' With .fit(), you calculate the optimal values of the weights 𝑏₀ and 𝑏₁,\\nusing the existing input and output (x and y) as # the arguments.\\n\\ni.e. in y = mx + c, m (coef_) and c (intercept_) are calculated.\\n'"
      ]
     },
     "execution_count": 274,
     "metadata": {},
     "output_type": "execute_result"
    }
   ],
   "source": [
    "model.fit(x,y)\n",
    "\n",
    "''' With .fit(), you calculate the optimal values of the weights 𝑏₀ and 𝑏₁,\n",
    "using the existing input and output (x and y) as # the arguments.\n",
    "\n",
    "i.e. in y = mx + c, m (coef_) and c (intercept_) are calculated.\n",
    "'''"
   ]
  },
  {
   "cell_type": "code",
   "execution_count": 275,
   "metadata": {},
   "outputs": [
    {
     "name": "stdout",
     "output_type": "stream",
     "text": [
      "Intercept: 5.633333333333329\n",
      "Coef: [0.54]\n"
     ]
    }
   ],
   "source": [
    "print(\"Intercept:\", model.intercept_)\n",
    "print(\"Coef:\", model.coef_)"
   ]
  },
  {
   "cell_type": "code",
   "execution_count": 276,
   "metadata": {},
   "outputs": [
    {
     "name": "stdout",
     "output_type": "stream",
     "text": [
      "R2: 0.715875613747954\n"
     ]
    }
   ],
   "source": [
    "# You can obtain the coefficient of determination (𝑅²) with .score() called on model\n",
    "r_sq = model.score(x, y)\n",
    "print(\"R2:\",r_sq)"
   ]
  },
  {
   "cell_type": "markdown",
   "metadata": {},
   "source": [
    "Now, the model is ready and also you are aware of what the R2 value is. Now you can use this model to predict values based on new x values: x_new"
   ]
  },
  {
   "cell_type": "code",
   "execution_count": 306,
   "metadata": {},
   "outputs": [
    {
     "name": "stdout",
     "output_type": "stream",
     "text": [
      "x_new:\n",
      " [ 25.          29.41176471  33.82352941  38.23529412  42.64705882\n",
      "  47.05882353  51.47058824  55.88235294  60.29411765  64.70588235\n",
      "  69.11764706  73.52941176  77.94117647  82.35294118  86.76470588\n",
      "  91.17647059  95.58823529 100.        ]\n",
      "Y predicted values: [19.13333333 21.51568627 23.89803922 26.28039216 28.6627451  31.04509804\n",
      " 33.42745098 35.80980392 38.19215686 40.5745098  42.95686275 45.33921569\n",
      " 47.72156863 50.10392157 52.48627451 54.86862745 57.25098039 59.63333333]\n"
     ]
    }
   ],
   "source": [
    "x_new=np.linspace(25,100,18)\n",
    "print(\"x_new:\\n\", x_new)\n",
    "\n",
    "y_predicted = model.predict(x_new.reshape(-1,1))\n",
    "\n",
    "print(\"Y predicted values:\", y_predicted)"
   ]
  },
  {
   "cell_type": "code",
   "execution_count": 309,
   "metadata": {},
   "outputs": [
    {
     "data": {
      "image/png": "[encoded data removed]",
      "text/plain": [
       "<Figure size 432x288 with 1 Axes>"
      ]
     },
     "metadata": {
      "needs_background": "light"
     },
     "output_type": "display_data"
    }
   ],
   "source": [
    "import matplotlib.pyplot as plt\n",
    "\n",
    "plt.scatter(x.reshape(1,-1),y,color='blue',label='Actual values') #plots original x,y values on a scatter-plot\n",
    "plt.plot(x_new,y_predicted,color='green',label='Predicted values') #plots x_new, y_predicted on a line-plot\n",
    "\n",
    "plt.xlabel('x')\n",
    "plt.ylabel('y')\n",
    "\n",
    "plt.legend()\n",
    "plt.show()"
   ]
  },
  {
   "cell_type": "markdown",
   "metadata": {},
   "source": [
    "# Linear Regression - 2 (with missing values)"
   ]
  },
  {
   "cell_type": "code",
   "execution_count": 254,
   "metadata": {},
   "outputs": [
    {
     "name": "stdout",
     "output_type": "stream",
     "text": [
      "   Age  Certifications   Salary\n",
      "0  1.0             2.0  22000.0\n",
      "1  2.0             3.0  23000.0\n",
      "2  3.0             5.0  24000.0\n",
      "3  5.0             6.0  28000.0\n",
      "4  6.0             7.0  33000.0\n",
      "5  NaN             8.0  39000.0\n",
      "6  7.0             9.0  42000.0\n",
      "7  7.5            10.0  44000.0\n",
      "8  6.0             NaN  52000.0\n",
      "9  5.0            14.0  53000.0\n"
     ]
    }
   ],
   "source": [
    "a=np.array([ [1,2,3,5,6,np.nan,7,7.5,6,5], [2,3,5,6,7,8,9,10,np.nan,14], \n",
    "             [22000,23000,24000,28000,33000,39000,42000,44000,52000,53000] ])\n",
    "data=pd.DataFrame(a.T,columns=['Age','Certifications','Salary'])\n",
    "\n",
    "print(data) # Observe data in columns with NaN data as well. We will work on these later.\n",
    "\n",
    "# Independent variables = Age, Certifications\n",
    "# Dependent variables = Salary"
   ]
  },
  {
   "cell_type": "code",
   "execution_count": 255,
   "metadata": {},
   "outputs": [
    {
     "name": "stdout",
     "output_type": "stream",
     "text": [
      "   Age  Certifications   Salary\n",
      "0  1.0             2.0  22000.0\n",
      "1  2.0             3.0  23000.0\n",
      "2  3.0             5.0  24000.0\n",
      "3  5.0             6.0  28000.0\n",
      "4  6.0             7.0  33000.0\n",
      "6  7.0             9.0  42000.0\n",
      "7  7.5            10.0  44000.0\n",
      "9  5.0            14.0  53000.0\n"
     ]
    }
   ],
   "source": [
    "# First approach: Dropping the NaN values\n",
    "\n",
    "data_dropped = data.dropna(axis=0)\n",
    "\n",
    "print(data_dropped) # You can see rows containing NaN are dropped"
   ]
  },
  {
   "cell_type": "code",
   "execution_count": 256,
   "metadata": {},
   "outputs": [],
   "source": [
    "from sklearn.model_selection import train_test_split"
   ]
  },
  {
   "cell_type": "code",
   "execution_count": 257,
   "metadata": {},
   "outputs": [
    {
     "name": "stdout",
     "output_type": "stream",
     "text": [
      "Certifications data: [ 2.  3.  5.  6.  7.  9. 10. 14.]\n",
      "Salary data: [22000. 23000. 24000. 28000. 33000. 42000. 44000. 53000.]\n"
     ]
    }
   ],
   "source": [
    "# Let's assume just one independent variable 'Certifications'\n",
    "\n",
    "# Let's now extract Certifications & Salary data\n",
    "\n",
    "certifications=data_dropped.iloc[:,-2].values\n",
    "\n",
    "salary=data_dropped.iloc[:,-1].values\n",
    "\n",
    "print(\"Certifications data:\", certifications)\n",
    "print(\"Salary data:\", salary)"
   ]
  },
  {
   "cell_type": "code",
   "execution_count": 258,
   "metadata": {},
   "outputs": [],
   "source": [
    "certification_train,certification_test,salary_train,salary_test=train_test_split(np.array(certifications),np.array(salary),test_size=0.2,random_state=0)"
   ]
  },
  {
   "cell_type": "code",
   "execution_count": 259,
   "metadata": {},
   "outputs": [
    {
     "name": "stdout",
     "output_type": "stream",
     "text": [
      "[ 3. 14.  6.  2.  9.  7.]\n",
      "[10.  5.]\n",
      "[23000. 53000. 28000. 22000. 42000. 33000.]\n",
      "[44000. 24000.]\n"
     ]
    }
   ],
   "source": [
    "print(certification_train)\n",
    "print(certification_test)\n",
    "print(salary_train)\n",
    "print(salary_test)"
   ]
  },
  {
   "cell_type": "code",
   "execution_count": 260,
   "metadata": {},
   "outputs": [
    {
     "name": "stdout",
     "output_type": "stream",
     "text": [
      "[14873.46221441]\n",
      "[[2725.83479789]]\n"
     ]
    }
   ],
   "source": [
    "model=LinearRegression()\n",
    "\n",
    "model.fit(certification_train.reshape(-1,1), salary_train.reshape(-1,1))\n",
    "\n",
    "print(model.intercept_)\n",
    "print(model.coef_)"
   ]
  },
  {
   "cell_type": "code",
   "execution_count": 261,
   "metadata": {},
   "outputs": [],
   "source": [
    "from sklearn.metrics import r2_score\n",
    "from sklearn import metrics"
   ]
  },
  {
   "cell_type": "code",
   "execution_count": 262,
   "metadata": {},
   "outputs": [
    {
     "name": "stdout",
     "output_type": "stream",
     "text": [
      "[10.  5.]\n",
      "[[42131.81019332]\n",
      " [28502.63620387]]\n"
     ]
    }
   ],
   "source": [
    "salary_prediction=model.predict(certification_test.reshape(-1,1))\n",
    "\n",
    "print(certification_test)\n",
    "print(salary_prediction)"
   ]
  },
  {
   "cell_type": "code",
   "execution_count": 263,
   "metadata": {},
   "outputs": [
    {
     "name": "stdout",
     "output_type": "stream",
     "text": [
      "RMSE: 3447.0179821220668\n"
     ]
    }
   ],
   "source": [
    "'''RMSE is one way to evaluate the linear regression model\n",
    "RMSE=0 means perfect fit\n",
    "There are several definitions of R2'''\n",
    "\n",
    "RMSE=np.sqrt(metrics.mean_squared_error(salary_test,salary_prediction))\n",
    "\n",
    "print(\"RMSE:\", RMSE)"
   ]
  },
  {
   "cell_type": "code",
   "execution_count": 264,
   "metadata": {},
   "outputs": [
    {
     "name": "stdout",
     "output_type": "stream",
     "text": [
      "R2: 0.8811806703092712\n"
     ]
    }
   ],
   "source": [
    "'''R2 = coefficient of determination, to see how good model fits the data\n",
    "\n",
    "It is proportion of the variance in the dependent variable that is predictable from the independent variable(s)'''\n",
    "\n",
    "print(\"R2:\",r2_score(salary_test,salary_prediction))"
   ]
  },
  {
   "cell_type": "code",
   "execution_count": 265,
   "metadata": {},
   "outputs": [],
   "source": [
    "import matplotlib.pyplot as plt"
   ]
  },
  {
   "cell_type": "code",
   "execution_count": 266,
   "metadata": {},
   "outputs": [
    {
     "data": {
      "text/plain": [
       "Text(0, 0.5, 'Salary')"
      ]
     },
     "execution_count": 266,
     "metadata": {},
     "output_type": "execute_result"
    },
    {
     "data": {
      "image/png": "[encoded data removed]",
      "text/plain": [
       "<Figure size 432x288 with 1 Axes>"
      ]
     },
     "metadata": {
      "needs_background": "light"
     },
     "output_type": "display_data"
    }
   ],
   "source": [
    "plt.scatter(certifications,salary,color='Blue')\n",
    "plt.plot(certifications,model.predict(certifications.reshape(-1,1)), color = 'red')\n",
    "plt.title('Certifications v/s Salary')\n",
    "plt.xlabel('Certifications')\n",
    "plt.ylabel('Salary')"
   ]
  },
  {
   "cell_type": "code",
   "execution_count": 267,
   "metadata": {},
   "outputs": [
    {
     "name": "stdout",
     "output_type": "stream",
     "text": [
      "        Age  Certifications   Salary\n",
      "0  1.000000        2.000000  22000.0\n",
      "1  2.000000        3.000000  23000.0\n",
      "2  3.000000        5.000000  24000.0\n",
      "3  5.000000        6.000000  28000.0\n",
      "4  6.000000        7.000000  33000.0\n",
      "5  4.722222        8.000000  39000.0\n",
      "6  7.000000        9.000000  42000.0\n",
      "7  7.500000       10.000000  44000.0\n",
      "8  6.000000        7.111111  52000.0\n",
      "9  5.000000       14.000000  53000.0\n"
     ]
    }
   ],
   "source": [
    "# Second approach: Fill missing values with mean of that column. And then all the steps as above.\n",
    "\n",
    "data_mean = data.fillna(data.mean())\n",
    "\n",
    "print(data_mean) # You can see that cells containing NaN are replaced with mean values now"
   ]
  },
  {
   "cell_type": "markdown",
   "metadata": {},
   "source": [
    "Example: The following command can be used to replaced missing values in Gender column with 'unknown' value: \n",
    "dataset['Gender'].fillna('unknown',inplace=True)"
   ]
  },
  {
   "cell_type": "code",
   "execution_count": 268,
   "metadata": {},
   "outputs": [
    {
     "name": "stdout",
     "output_type": "stream",
     "text": [
      "RMSE: 3183.9416030783746\n",
      "R2: 0.9517836664360843\n"
     ]
    }
   ],
   "source": [
    "certifications=data_mean.iloc[:,-2].values\n",
    "\n",
    "salary=data_mean.iloc[:,-1].values\n",
    "\n",
    "certification_train,certification_test,salary_train,salary_test=train_test_split(certifications,salary,test_size=0.2)\n",
    "\n",
    "salary_prediction=model.predict(certification_test.reshape(-1,1))\n",
    "\n",
    "RMSE=np.sqrt(metrics.mean_squared_error(salary_test,salary_prediction))\n",
    "\n",
    "print(\"RMSE:\", RMSE)\n",
    "\n",
    "print(\"R2:\",r2_score(salary_test,salary_prediction))"
   ]
  },
  {
   "cell_type": "code",
   "execution_count": 269,
   "metadata": {},
   "outputs": [],
   "source": [
    "# let's plot the original data, and the two predicted salaries"
   ]
  },
  {
   "cell_type": "code",
   "execution_count": 270,
   "metadata": {},
   "outputs": [
    {
     "data": {
      "text/plain": [
       "Text(0, 0.5, 'Salary')"
      ]
     },
     "execution_count": 270,
     "metadata": {},
     "output_type": "execute_result"
    },
    {
     "data": {
      "image/png": "[encoded data removed]",
      "text/plain": [
       "<Figure size 432x288 with 1 Axes>"
      ]
     },
     "metadata": {
      "needs_background": "light"
     },
     "output_type": "display_data"
    }
   ],
   "source": [
    "plt.scatter(certifications,salary,color='Blue')\n",
    "plt.plot(certifications,model.predict(certifications.reshape(-1,1)), color = 'red')\n",
    "plt.title('Certifications v/s Salary')\n",
    "plt.xlabel('Certifications')\n",
    "plt.ylabel('Salary')"
   ]
  },
  {
   "cell_type": "markdown",
   "metadata": {},
   "source": [
    "# Generalized steps for Linear Regression"
   ]
  },
  {
   "cell_type": "markdown",
   "metadata": {},
   "source": [
    "data load\n",
    "\n",
    "extract independent variable x\n",
    "extract dependent variable y\n",
    "\n",
    "model=linearregression()\n",
    "\n",
    "x_train, x_test, y_train, y_test = train_test_split (x, y, test_size, random_state)\n",
    "\n",
    "model.fit(x_train, y_train)\n",
    "intercept_\n",
    "coef_\n",
    "\n",
    "y_prediction = model.predict (x_test)\n",
    "\n",
    "RMSE (y_test, y_prediction)\n",
    "\n",
    "r2_score (y_test, y_prediction)\n",
    "\n",
    "model.predict (x_new)"
   ]
  }
 ],
 "metadata": {
  "kernelspec": {
   "display_name": "Python 3",
   "language": "python",
   "name": "python3"
  },
  "language_info": {
   "codemirror_mode": {
    "name": "ipython",
    "version": 3
   },
   "file_extension": ".py",
   "mimetype": "text/x-python",
   "name": "python",
   "nbconvert_exporter": "python",
   "pygments_lexer": "ipython3",
   "version": "3.7.3"
  }
 },
 "nbformat": 4,
 "nbformat_minor": 2
}
