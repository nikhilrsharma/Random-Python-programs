{
 "cells": [
  {
   "cell_type": "code",
   "execution_count": 2,
   "metadata": {},
   "outputs": [],
   "source": [
    "import pandas as pd\n",
    "import numpy as np"
   ]
  },
  {
   "cell_type": "code",
   "execution_count": 3,
   "metadata": {},
   "outputs": [],
   "source": [
    "import matplotlib.pyplot as plt"
   ]
  },
  {
   "cell_type": "code",
   "execution_count": 4,
   "metadata": {},
   "outputs": [],
   "source": [
    "from sklearn.model_selection import train_test_split"
   ]
  },
  {
   "cell_type": "code",
   "execution_count": 5,
   "metadata": {},
   "outputs": [],
   "source": [
    "data=pd.read_csv('C:/Users/Public.DESKTOP-6RBQT7L/Desktop/Programming - Maths/SPACY IITians course/Linear Regression/salaryData.csv')"
   ]
  },
  {
   "cell_type": "code",
   "execution_count": 6,
   "metadata": {},
   "outputs": [
    {
     "data": {
      "text/html": [
       "<div>\n",
       "<style scoped>\n",
       "    .dataframe tbody tr th:only-of-type {\n",
       "        vertical-align: middle;\n",
       "    }\n",
       "\n",
       "    .dataframe tbody tr th {\n",
       "        vertical-align: top;\n",
       "    }\n",
       "\n",
       "    .dataframe thead th {\n",
       "        text-align: right;\n",
       "    }\n",
       "</style>\n",
       "<table border=\"1\" class=\"dataframe\">\n",
       "  <thead>\n",
       "    <tr style=\"text-align: right;\">\n",
       "      <th></th>\n",
       "      <th>YearsExperience</th>\n",
       "      <th>Salary</th>\n",
       "    </tr>\n",
       "  </thead>\n",
       "  <tbody>\n",
       "    <tr>\n",
       "      <th>0</th>\n",
       "      <td>1.1</td>\n",
       "      <td>39343</td>\n",
       "    </tr>\n",
       "    <tr>\n",
       "      <th>1</th>\n",
       "      <td>1.3</td>\n",
       "      <td>46205</td>\n",
       "    </tr>\n",
       "    <tr>\n",
       "      <th>2</th>\n",
       "      <td>1.5</td>\n",
       "      <td>37731</td>\n",
       "    </tr>\n",
       "    <tr>\n",
       "      <th>3</th>\n",
       "      <td>2.0</td>\n",
       "      <td>43525</td>\n",
       "    </tr>\n",
       "    <tr>\n",
       "      <th>4</th>\n",
       "      <td>2.2</td>\n",
       "      <td>39891</td>\n",
       "    </tr>\n",
       "  </tbody>\n",
       "</table>\n",
       "</div>"
      ],
      "text/plain": [
       "   YearsExperience  Salary\n",
       "0              1.1   39343\n",
       "1              1.3   46205\n",
       "2              1.5   37731\n",
       "3              2.0   43525\n",
       "4              2.2   39891"
      ]
     },
     "execution_count": 6,
     "metadata": {},
     "output_type": "execute_result"
    }
   ],
   "source": [
    "data.head()"
   ]
  },
  {
   "cell_type": "code",
   "execution_count": 7,
   "metadata": {},
   "outputs": [
    {
     "data": {
      "text/plain": [
       "(31, 2)"
      ]
     },
     "execution_count": 7,
     "metadata": {},
     "output_type": "execute_result"
    }
   ],
   "source": [
    "data.shape"
   ]
  },
  {
   "cell_type": "code",
   "execution_count": 9,
   "metadata": {},
   "outputs": [],
   "source": [
    "data.rename({'YearsExperience':'Experience'},axis=1,inplace=True)"
   ]
  },
  {
   "cell_type": "code",
   "execution_count": 10,
   "metadata": {},
   "outputs": [
    {
     "data": {
      "text/html": [
       "<div>\n",
       "<style scoped>\n",
       "    .dataframe tbody tr th:only-of-type {\n",
       "        vertical-align: middle;\n",
       "    }\n",
       "\n",
       "    .dataframe tbody tr th {\n",
       "        vertical-align: top;\n",
       "    }\n",
       "\n",
       "    .dataframe thead th {\n",
       "        text-align: right;\n",
       "    }\n",
       "</style>\n",
       "<table border=\"1\" class=\"dataframe\">\n",
       "  <thead>\n",
       "    <tr style=\"text-align: right;\">\n",
       "      <th></th>\n",
       "      <th>Experience</th>\n",
       "      <th>Salary</th>\n",
       "    </tr>\n",
       "  </thead>\n",
       "  <tbody>\n",
       "    <tr>\n",
       "      <th>0</th>\n",
       "      <td>1.1</td>\n",
       "      <td>39343</td>\n",
       "    </tr>\n",
       "    <tr>\n",
       "      <th>1</th>\n",
       "      <td>1.3</td>\n",
       "      <td>46205</td>\n",
       "    </tr>\n",
       "    <tr>\n",
       "      <th>2</th>\n",
       "      <td>1.5</td>\n",
       "      <td>37731</td>\n",
       "    </tr>\n",
       "    <tr>\n",
       "      <th>3</th>\n",
       "      <td>2.0</td>\n",
       "      <td>43525</td>\n",
       "    </tr>\n",
       "    <tr>\n",
       "      <th>4</th>\n",
       "      <td>2.2</td>\n",
       "      <td>39891</td>\n",
       "    </tr>\n",
       "  </tbody>\n",
       "</table>\n",
       "</div>"
      ],
      "text/plain": [
       "   Experience  Salary\n",
       "0         1.1   39343\n",
       "1         1.3   46205\n",
       "2         1.5   37731\n",
       "3         2.0   43525\n",
       "4         2.2   39891"
      ]
     },
     "execution_count": 10,
     "metadata": {},
     "output_type": "execute_result"
    }
   ],
   "source": [
    "data.head()"
   ]
  },
  {
   "cell_type": "code",
   "execution_count": 11,
   "metadata": {},
   "outputs": [
    {
     "data": {
      "text/html": [
       "<div>\n",
       "<style scoped>\n",
       "    .dataframe tbody tr th:only-of-type {\n",
       "        vertical-align: middle;\n",
       "    }\n",
       "\n",
       "    .dataframe tbody tr th {\n",
       "        vertical-align: top;\n",
       "    }\n",
       "\n",
       "    .dataframe thead th {\n",
       "        text-align: right;\n",
       "    }\n",
       "</style>\n",
       "<table border=\"1\" class=\"dataframe\">\n",
       "  <thead>\n",
       "    <tr style=\"text-align: right;\">\n",
       "      <th></th>\n",
       "      <th>Experience</th>\n",
       "      <th>Salary</th>\n",
       "    </tr>\n",
       "  </thead>\n",
       "  <tbody>\n",
       "    <tr>\n",
       "      <th>count</th>\n",
       "      <td>31.000000</td>\n",
       "      <td>31.000000</td>\n",
       "    </tr>\n",
       "    <tr>\n",
       "      <th>mean</th>\n",
       "      <td>5.525806</td>\n",
       "      <td>80002.903226</td>\n",
       "    </tr>\n",
       "    <tr>\n",
       "      <th>std</th>\n",
       "      <td>3.030618</td>\n",
       "      <td>34963.913711</td>\n",
       "    </tr>\n",
       "    <tr>\n",
       "      <th>min</th>\n",
       "      <td>1.100000</td>\n",
       "      <td>37731.000000</td>\n",
       "    </tr>\n",
       "    <tr>\n",
       "      <th>25%</th>\n",
       "      <td>3.200000</td>\n",
       "      <td>56799.500000</td>\n",
       "    </tr>\n",
       "    <tr>\n",
       "      <th>50%</th>\n",
       "      <td>4.900000</td>\n",
       "      <td>66029.000000</td>\n",
       "    </tr>\n",
       "    <tr>\n",
       "      <th>75%</th>\n",
       "      <td>8.050000</td>\n",
       "      <td>103442.000000</td>\n",
       "    </tr>\n",
       "    <tr>\n",
       "      <th>max</th>\n",
       "      <td>11.900000</td>\n",
       "      <td>200000.000000</td>\n",
       "    </tr>\n",
       "  </tbody>\n",
       "</table>\n",
       "</div>"
      ],
      "text/plain": [
       "       Experience         Salary\n",
       "count   31.000000      31.000000\n",
       "mean     5.525806   80002.903226\n",
       "std      3.030618   34963.913711\n",
       "min      1.100000   37731.000000\n",
       "25%      3.200000   56799.500000\n",
       "50%      4.900000   66029.000000\n",
       "75%      8.050000  103442.000000\n",
       "max     11.900000  200000.000000"
      ]
     },
     "execution_count": 11,
     "metadata": {},
     "output_type": "execute_result"
    }
   ],
   "source": [
    "data.describe()"
   ]
  },
  {
   "cell_type": "code",
   "execution_count": 12,
   "metadata": {},
   "outputs": [
    {
     "data": {
      "text/plain": [
       "Text(0, 0.5, 'Salary')"
      ]
     },
     "execution_count": 12,
     "metadata": {},
     "output_type": "execute_result"
    },
    {
     "data": {
      "image/png": "[encoded data removed]",
      "text/plain": [
       "<Figure size 432x288 with 1 Axes>"
      ]
     },
     "metadata": {
      "needs_background": "light"
     },
     "output_type": "display_data"
    }
   ],
   "source": [
    "plt.scatter(data['Experience'],data['Salary'],color='Blue')\n",
    "plt.title('Salary v/s Experience')\n",
    "plt.xlabel('Experience')\n",
    "plt.ylabel('Salary')"
   ]
  },
  {
   "cell_type": "code",
   "execution_count": 15,
   "metadata": {},
   "outputs": [
    {
     "name": "stdout",
     "output_type": "stream",
     "text": [
      "[ 1.1  1.3  1.5  2.   2.2  2.9  3.   3.2  3.2  3.7  3.9  4.   4.   4.1\n",
      "  4.5  4.9  5.1  5.3  5.9  6.   6.8  7.1  7.9  8.2  8.7  9.   9.5  9.6\n",
      " 10.3 10.5 11.9]\n",
      "<class 'numpy.ndarray'>\n",
      "\n",
      "[ 39343  46205  37731  43525  39891  56642  60150  54445  64445  57189\n",
      "  63218  55794  56957  57081  61111  67938  66029  83088  81363  93940\n",
      "  91738  98273 101302 113812 109431 105582 116969 112635 122391 121872\n",
      " 200000]\n",
      "<class 'numpy.ndarray'>\n"
     ]
    }
   ],
   "source": [
    "# Extract independent variable\n",
    "exp=data.iloc[:,0].values\n",
    "print(exp)\n",
    "print(type(exp))\n",
    "print()\n",
    "\n",
    "# Extract dependent variable\n",
    "sal=data.iloc[:,1].values\n",
    "print(sal)\n",
    "print(type(sal))"
   ]
  },
  {
   "cell_type": "code",
   "execution_count": 16,
   "metadata": {},
   "outputs": [],
   "source": [
    "expTrain, expVal, salTrain, salVal = train_test_split(exp, sal, test_size = 0.2, random_state = 0)"
   ]
  },
  {
   "cell_type": "code",
   "execution_count": 42,
   "metadata": {},
   "outputs": [
    {
     "name": "stdout",
     "output_type": "stream",
     "text": [
      "expTrain:\n",
      " [[ 4. ]\n",
      " [ 5.3]\n",
      " [ 8.2]\n",
      " [ 2.9]\n",
      " [ 5.1]\n",
      " [ 3.2]\n",
      " [ 4.5]\n",
      " [ 8.7]\n",
      " [ 6.8]\n",
      " [ 1.3]\n",
      " [11.9]\n",
      " [ 3. ]\n",
      " [ 2.2]\n",
      " [ 5.9]\n",
      " [10.3]\n",
      " [ 6. ]\n",
      " [ 3.7]\n",
      " [ 3.2]\n",
      " [ 9.5]\n",
      " [ 2. ]\n",
      " [ 1.1]\n",
      " [ 7.1]\n",
      " [ 4.9]\n",
      " [ 4. ]]\n",
      "<class 'numpy.ndarray'>\n",
      "-------------------------------\n",
      "expVal:\n",
      "       0\n",
      "0   1.5\n",
      "1  10.5\n",
      "2   4.1\n",
      "3   3.9\n",
      "4   9.6\n",
      "5   9.0\n",
      "6   7.9\n",
      "<class 'pandas.core.frame.DataFrame'>\n",
      "-------------------------------\n",
      "salTrain:\n",
      " [ 55794  83088 113812  56642  66029  64445  61111 109431  91738  46205\n",
      " 200000  60150  39891  81363 122391  93940  57189  54445 116969  43525\n",
      "  39343  98273  67938  56957]\n",
      "<class 'numpy.ndarray'>\n",
      "-------------------------------\n",
      "salVal:\n",
      " [ 37731 121872  57081  63218 112635 105582 101302]\n",
      "<class 'numpy.ndarray'>\n"
     ]
    }
   ],
   "source": [
    "print(\"expTrain:\\n\",expTrain)\n",
    "print(type(expTrain))\n",
    "print(\"-------------------------------\")\n",
    "print(\"expVal:\\n\",expVal)\n",
    "print(type(expVal))\n",
    "print(\"-------------------------------\")\n",
    "print(\"salTrain:\\n\",salTrain)\n",
    "print(type(salTrain))\n",
    "print(\"-------------------------------\")\n",
    "print(\"salVal:\\n\",salVal)\n",
    "print(type(salVal))"
   ]
  },
  {
   "cell_type": "code",
   "execution_count": 21,
   "metadata": {},
   "outputs": [
    {
     "name": "stdout",
     "output_type": "stream",
     "text": [
      "1\n",
      "(24,)\n"
     ]
    }
   ],
   "source": [
    "print(expTrain.ndim)\n",
    "print(expTrain.shape)"
   ]
  },
  {
   "cell_type": "code",
   "execution_count": 23,
   "metadata": {},
   "outputs": [
    {
     "name": "stdout",
     "output_type": "stream",
     "text": [
      "(24, 1)\n"
     ]
    }
   ],
   "source": [
    "expTrain=expTrain.reshape((24,1))\n",
    "print(expTrain.shape)"
   ]
  },
  {
   "cell_type": "code",
   "execution_count": 25,
   "metadata": {},
   "outputs": [
    {
     "name": "stdout",
     "output_type": "stream",
     "text": [
      "(7, 1)\n"
     ]
    }
   ],
   "source": [
    "expVal=pd.DataFrame(expVal)\n",
    "print(expVal.shape)"
   ]
  },
  {
   "cell_type": "code",
   "execution_count": 26,
   "metadata": {},
   "outputs": [],
   "source": [
    "from sklearn.linear_model import LinearRegression\n",
    "linearRegressor = LinearRegression()"
   ]
  },
  {
   "cell_type": "code",
   "execution_count": 27,
   "metadata": {},
   "outputs": [
    {
     "data": {
      "text/plain": [
       "LinearRegression(copy_X=True, fit_intercept=True, n_jobs=None,\n",
       "         normalize=False)"
      ]
     },
     "execution_count": 27,
     "metadata": {},
     "output_type": "execute_result"
    }
   ],
   "source": [
    "linearRegressor.fit(expTrain, salTrain)"
   ]
  },
  {
   "cell_type": "code",
   "execution_count": 30,
   "metadata": {},
   "outputs": [
    {
     "name": "stdout",
     "output_type": "stream",
     "text": [
      "17116.49933095064 <class 'numpy.float64'> \n",
      "\n",
      "[11777.8286543] <class 'numpy.ndarray'>\n"
     ]
    }
   ],
   "source": [
    "# salary = beta0 + beta1* YearsExperience + error\n",
    "\n",
    "beta0 = linearRegressor.intercept_\n",
    "beta1 = linearRegressor.coef_\n",
    "\n",
    "print(beta0, type(beta0),\"\\n\")\n",
    "print(beta1, type(beta1))"
   ]
  },
  {
   "cell_type": "code",
   "execution_count": null,
   "metadata": {},
   "outputs": [],
   "source": [
    "# salary_predicted =  ( beta0 + beta1* YearsExperience)"
   ]
  },
  {
   "cell_type": "code",
   "execution_count": 34,
   "metadata": {},
   "outputs": [
    {
     "name": "stdout",
     "output_type": "stream",
     "text": [
      "      0\n",
      "0   1.5\n",
      "1  10.5\n",
      "2   4.1\n",
      "3   3.9\n",
      "4   9.6\n",
      "5   9.0\n",
      "6   7.9\n",
      "[ 34783.24231241 140783.70020115  65405.5968136   63050.03108274\n",
      " 130183.65441227 123116.95721969 110161.34569996]\n"
     ]
    }
   ],
   "source": [
    "salary_predicted = linearRegressor.predict(expVal)\n",
    "print(expVal)\n",
    "print(salary_predicted)"
   ]
  },
  {
   "cell_type": "code",
   "execution_count": 35,
   "metadata": {},
   "outputs": [
    {
     "data": {
      "text/plain": [
       "array([34783.24231241])"
      ]
     },
     "execution_count": 35,
     "metadata": {},
     "output_type": "execute_result"
    }
   ],
   "source": [
    "# Let's check manually for 1st value\n",
    "\n",
    "beta0 + (beta1 * 1.5)\n",
    "\n",
    "# This matches with the 1st value in the 'salary_predicted' array corresponding to 1.5 of expVal"
   ]
  },
  {
   "cell_type": "markdown",
   "metadata": {},
   "source": [
    "RMSE - Root Mean Squared Error\n",
    "Formula = Sqaure root (( actual - Predicted) ^2 ) / total observation)"
   ]
  },
  {
   "cell_type": "code",
   "execution_count": 36,
   "metadata": {},
   "outputs": [],
   "source": [
    "from sklearn.metrics import mean_squared_error"
   ]
  },
  {
   "cell_type": "code",
   "execution_count": 37,
   "metadata": {},
   "outputs": [
    {
     "name": "stdout",
     "output_type": "stream",
     "text": [
      "Root Mean Squared Error:\n"
     ]
    },
    {
     "data": {
      "text/plain": [
       "12703.131268414472"
      ]
     },
     "execution_count": 37,
     "metadata": {},
     "output_type": "execute_result"
    }
   ],
   "source": [
    "print('Root Mean Squared Error:' )\n",
    "np.sqrt(mean_squared_error(salVal, salary_predicted))"
   ]
  },
  {
   "cell_type": "code",
   "execution_count": 38,
   "metadata": {},
   "outputs": [
    {
     "data": {
      "image/png": "[encoded data removed]",
      "text/plain": [
       "<Figure size 432x288 with 1 Axes>"
      ]
     },
     "metadata": {
      "needs_background": "light"
     },
     "output_type": "display_data"
    }
   ],
   "source": [
    "plt.scatter(expTrain, salTrain, color = 'Blue')\n",
    "plt.plot(expTrain,linearRegressor.predict(expTrain), color = 'red')\n",
    "plt.title('Salary vs Experience')\n",
    "plt.xlabel('Years of Experience')\n",
    "plt.ylabel('Salary')\n",
    "plt.show()"
   ]
  },
  {
   "cell_type": "markdown",
   "metadata": {},
   "source": [
    "# Let's try again after rounding-off years and excluding the outlier"
   ]
  },
  {
   "cell_type": "code",
   "execution_count": 45,
   "metadata": {},
   "outputs": [
    {
     "name": "stdout",
     "output_type": "stream",
     "text": [
      "[ 1.1  1.3  1.5  2.   2.2  2.9  3.   3.2  3.2  3.7  3.9  4.   4.   4.1\n",
      "  4.5  4.9  5.1  5.3  5.9  6.   6.8  7.1  7.9  8.2  8.7  9.   9.5  9.6\n",
      " 10.3 10.5 11.9]\n",
      "[ 1.  1.  2.  2.  2.  3.  3.  3.  3.  4.  4.  4.  4.  4.  4.  5.  5.  5.\n",
      "  6.  6.  7.  7.  8.  8.  9.  9. 10. 10. 10. 10. 12.]\n"
     ]
    }
   ],
   "source": [
    "exp=data.iloc[:,0].values\n",
    "print(exp)\n",
    "\n",
    "exp=np.round(exp,0)\n",
    "\n",
    "print(exp)"
   ]
  },
  {
   "cell_type": "code",
   "execution_count": 48,
   "metadata": {},
   "outputs": [
    {
     "name": "stdout",
     "output_type": "stream",
     "text": [
      "    Experience  Salary\n",
      "25         9.0  105582\n",
      "26         9.5  116969\n",
      "27         9.6  112635\n",
      "28        10.3  122391\n",
      "29        10.5  121872\n",
      "    Experience  Salary\n",
      "25         9.0  105582\n",
      "26         9.5  116969\n",
      "27         9.6  112635\n",
      "28        10.3  122391\n",
      "29        10.5  121872\n"
     ]
    }
   ],
   "source": [
    "# Excluding outlier\n",
    "\n",
    "print(data.tail()) # last record is outlier\n",
    "\n",
    "data=data.iloc[:30,:]\n",
    "\n",
    "print(data.tail()) #outlier is now excluded"
   ]
  },
  {
   "cell_type": "code",
   "execution_count": 49,
   "metadata": {},
   "outputs": [],
   "source": [
    "# Creating variables again\n",
    "exp = data.iloc[:, 0].values\n",
    "salary = data.iloc[:, 1].values"
   ]
  },
  {
   "cell_type": "code",
   "execution_count": 50,
   "metadata": {},
   "outputs": [],
   "source": [
    "expTrain, expVal, salTrain, salVal = train_test_split(exp, salary, test_size = 0.2, random_state = 0)"
   ]
  },
  {
   "cell_type": "code",
   "execution_count": 51,
   "metadata": {},
   "outputs": [],
   "source": [
    "# Converting to data frame 2D\n",
    "(expTrain,expVal) = (pd.DataFrame(expTrain),pd.DataFrame(expVal))"
   ]
  },
  {
   "cell_type": "code",
   "execution_count": 52,
   "metadata": {},
   "outputs": [
    {
     "data": {
      "text/plain": [
       "((24, 1), (6, 1))"
      ]
     },
     "execution_count": 52,
     "metadata": {},
     "output_type": "execute_result"
    }
   ],
   "source": [
    "expTrain.shape,expVal.shape"
   ]
  },
  {
   "cell_type": "code",
   "execution_count": 53,
   "metadata": {},
   "outputs": [
    {
     "data": {
      "image/png": "[encoded data removed]",
      "text/plain": [
       "<Figure size 432x288 with 1 Axes>"
      ]
     },
     "metadata": {
      "needs_background": "light"
     },
     "output_type": "display_data"
    }
   ],
   "source": [
    "plt.scatter(expTrain, salTrain, color = 'Blue')\n",
    "plt.plot(expTrain,linearRegressor.predict(expTrain), color = 'red')\n",
    "plt.title('Salary vs Experience')\n",
    "plt.xlabel('Years of Experience')\n",
    "plt.ylabel('Salary')\n",
    "plt.show()"
   ]
  },
  {
   "cell_type": "code",
   "execution_count": 58,
   "metadata": {},
   "outputs": [
    {
     "name": "stdout",
     "output_type": "stream",
     "text": [
      "Root Mean Squared Error:\n"
     ]
    },
    {
     "data": {
      "text/plain": [
       "9858.734042834045"
      ]
     },
     "execution_count": 58,
     "metadata": {},
     "output_type": "execute_result"
    }
   ],
   "source": [
    "expVal=pd.DataFrame(expVal)\n",
    "salary_predicted = linearRegressor.predict(expVal)\n",
    "print('Root Mean Squared Error:' )\n",
    "np.sqrt(mean_squared_error(salVal, salary_predicted))"
   ]
  },
  {
   "cell_type": "code",
   "execution_count": 65,
   "metadata": {},
   "outputs": [],
   "source": [
    "# Function to do all the above:\n",
    "\n",
    "def salary_predictor(xTrain, xVal, yTrain, yVal):\n",
    "    global linearRegressor\n",
    "    linearRegressor = LinearRegression()\n",
    "    linearRegressor.fit(xTrain, yTrain)\n",
    "    yPrediction = linearRegressor.predict(xVal)\n",
    "    plt.scatter(xTrain, yTrain, color = 'red')\n",
    "    plt.plot(xTrain,linearRegressor.predict(xTrain), color = 'blue')\n",
    "    plt.title('Salary vs Experience (Training set)')\n",
    "    plt.xlabel('Years of Experience')\n",
    "    plt.ylabel('Salary')\n",
    "    plt.show()\n",
    "    print('Root Mean Squared Error :' )\n",
    "    return np.sqrt(mean_squared_error(yVal, yPrediction))"
   ]
  },
  {
   "cell_type": "code",
   "execution_count": 66,
   "metadata": {},
   "outputs": [
    {
     "data": {
      "image/png": "[encoded data removed]",
      "text/plain": [
       "<Figure size 432x288 with 1 Axes>"
      ]
     },
     "metadata": {
      "needs_background": "light"
     },
     "output_type": "display_data"
    },
    {
     "name": "stdout",
     "output_type": "stream",
     "text": [
      "Root Mean Squared Error :\n"
     ]
    },
    {
     "data": {
      "text/plain": [
       "3580.979237321345"
      ]
     },
     "execution_count": 66,
     "metadata": {},
     "output_type": "execute_result"
    }
   ],
   "source": [
    "salary_predictor(xTrain = expTrain , xVal = expVal , yTrain = salTrain, yVal = salVal)"
   ]
  },
  {
   "cell_type": "code",
   "execution_count": 70,
   "metadata": {},
   "outputs": [],
   "source": [
    "# Let's try our model on a new CSV file with new data\n",
    "\n",
    "experience=pd.read_csv('C:/Users/Public.DESKTOP-6RBQT7L/Desktop/Programming - Maths/SPACY IITians course/Linear Regression/newdata.csv')"
   ]
  },
  {
   "cell_type": "code",
   "execution_count": 71,
   "metadata": {},
   "outputs": [
    {
     "data": {
      "text/html": [
       "<div>\n",
       "<style scoped>\n",
       "    .dataframe tbody tr th:only-of-type {\n",
       "        vertical-align: middle;\n",
       "    }\n",
       "\n",
       "    .dataframe tbody tr th {\n",
       "        vertical-align: top;\n",
       "    }\n",
       "\n",
       "    .dataframe thead th {\n",
       "        text-align: right;\n",
       "    }\n",
       "</style>\n",
       "<table border=\"1\" class=\"dataframe\">\n",
       "  <thead>\n",
       "    <tr style=\"text-align: right;\">\n",
       "      <th></th>\n",
       "      <th>experience</th>\n",
       "    </tr>\n",
       "  </thead>\n",
       "  <tbody>\n",
       "    <tr>\n",
       "      <th>0</th>\n",
       "      <td>7.6</td>\n",
       "    </tr>\n",
       "    <tr>\n",
       "      <th>1</th>\n",
       "      <td>4.0</td>\n",
       "    </tr>\n",
       "  </tbody>\n",
       "</table>\n",
       "</div>"
      ],
      "text/plain": [
       "   experience\n",
       "0         7.6\n",
       "1         4.0"
      ]
     },
     "execution_count": 71,
     "metadata": {},
     "output_type": "execute_result"
    }
   ],
   "source": [
    "experience"
   ]
  },
  {
   "cell_type": "code",
   "execution_count": 73,
   "metadata": {},
   "outputs": [
    {
     "data": {
      "text/html": [
       "<div>\n",
       "<style scoped>\n",
       "    .dataframe tbody tr th:only-of-type {\n",
       "        vertical-align: middle;\n",
       "    }\n",
       "\n",
       "    .dataframe tbody tr th {\n",
       "        vertical-align: top;\n",
       "    }\n",
       "\n",
       "    .dataframe thead th {\n",
       "        text-align: right;\n",
       "    }\n",
       "</style>\n",
       "<table border=\"1\" class=\"dataframe\">\n",
       "  <thead>\n",
       "    <tr style=\"text-align: right;\">\n",
       "      <th></th>\n",
       "      <th>experience</th>\n",
       "    </tr>\n",
       "  </thead>\n",
       "  <tbody>\n",
       "    <tr>\n",
       "      <th>0</th>\n",
       "      <td>8.0</td>\n",
       "    </tr>\n",
       "    <tr>\n",
       "      <th>1</th>\n",
       "      <td>4.0</td>\n",
       "    </tr>\n",
       "  </tbody>\n",
       "</table>\n",
       "</div>"
      ],
      "text/plain": [
       "   experience\n",
       "0         8.0\n",
       "1         4.0"
      ]
     },
     "execution_count": 73,
     "metadata": {},
     "output_type": "execute_result"
    }
   ],
   "source": [
    "experience = np.round(experience)\n",
    "\n",
    "experience"
   ]
  },
  {
   "cell_type": "code",
   "execution_count": 74,
   "metadata": {},
   "outputs": [
    {
     "data": {
      "text/plain": [
       "array([101280.70016446,  64030.39965754])"
      ]
     },
     "execution_count": 74,
     "metadata": {},
     "output_type": "execute_result"
    }
   ],
   "source": [
    "linearRegressor.predict(experience)"
   ]
  },
  {
   "cell_type": "markdown",
   "metadata": {},
   "source": [
    "Section below from: https://www.youtube.com/watch?v=E5RjzSK0fvY&t=2s"
   ]
  },
  {
   "cell_type": "markdown",
   "metadata": {},
   "source": [
    "y = mx + c\n",
    "\n"
   ]
  },
  {
   "attachments": {
    "Formula-1.gif": {
     "image/gif": "[encoded data removed]"
    }
   },
   "cell_type": "markdown",
   "metadata": {},
   "source": [
    "![Formula-1.gif](attachment:Formula-1.gif)"
   ]
  },
  {
   "cell_type": "markdown",
   "metadata": {},
   "source": [
    "So, m = b1\n",
    "and c = a\n",
    "\n",
    "Once b (i.e.m) is calculated, put it in the 2nd equation. y = mx + c. Take y as mean of y, m as calculated, x as mean of x. Then you can find value of 'c'.\n",
    "\n",
    "R^2 = E(Yp - ymean)^2 / E(y-ymean)^2\n",
    "Yp = value of Y from calculated equation\n",
    "Y = actual value of Y in observation\n",
    "\n",
    "The closer R^2 is to 1, the better."
   ]
  },
  {
   "cell_type": "code",
   "execution_count": 95,
   "metadata": {},
   "outputs": [],
   "source": [
    "from statistics import mean \n",
    "age = [1,2,3,4,5,6,7,8] #independent variable\n",
    "salary = [10,13,14,14,15,16,20,21] #dependent variable"
   ]
  },
  {
   "cell_type": "code",
   "execution_count": 96,
   "metadata": {},
   "outputs": [],
   "source": [
    "age_mean = mean(age)\n",
    "salary_mean = mean(salary)\n",
    "n=len(age)"
   ]
  },
  {
   "cell_type": "code",
   "execution_count": 98,
   "metadata": {},
   "outputs": [
    {
     "name": "stdout",
     "output_type": "stream",
     "text": [
      "Numerator: 59.5\n"
     ]
    }
   ],
   "source": [
    "# calculate numerator\n",
    "\n",
    "numer = 0\n",
    "\n",
    "for i in range(n):\n",
    "    numer += (age[i] - age_mean) * (salary[i] - salary_mean)\n",
    "    \n",
    "print(\"Numerator:\",numer)"
   ]
  },
  {
   "cell_type": "code",
   "execution_count": 99,
   "metadata": {},
   "outputs": [
    {
     "name": "stdout",
     "output_type": "stream",
     "text": [
      "Denominator: 42.0\n"
     ]
    }
   ],
   "source": [
    "# calculate denominator\n",
    "\n",
    "denom = 0\n",
    "\n",
    "for i in range(n):\n",
    "    denom += (age[i] - age_mean) ** 2\n",
    "    \n",
    "print(\"Denominator:\", denom)"
   ]
  },
  {
   "cell_type": "code",
   "execution_count": 107,
   "metadata": {},
   "outputs": [
    {
     "name": "stdout",
     "output_type": "stream",
     "text": [
      "1.4166666666666667\n",
      "9.0\n"
     ]
    }
   ],
   "source": [
    "# Hence, m = numer / denom\n",
    "\n",
    "m = numer / denom\n",
    "\n",
    "print(m)\n",
    "\n",
    "# Y = mX + c. That means, c = Y - mX\n",
    "c = salary_mean - (m * age_mean)\n",
    "\n",
    "print(c)"
   ]
  },
  {
   "cell_type": "code",
   "execution_count": null,
   "metadata": {},
   "outputs": [],
   "source": [
    "# Equation is: Y = 1.4167X + 9"
   ]
  },
  {
   "cell_type": "code",
   "execution_count": 111,
   "metadata": {},
   "outputs": [
    {
     "data": {
      "image/png": "[encoded data removed]",
      "text/plain": [
       "<Figure size 432x288 with 1 Axes>"
      ]
     },
     "metadata": {
      "needs_background": "light"
     },
     "output_type": "display_data"
    }
   ],
   "source": [
    "max_age = max(age) + 10\n",
    "min_age = min(age) - 10\n",
    "\n",
    "age_calculated = np.linspace(min_age,max_age,1000)\n",
    "salary_calculated = (m*age_calculated) + c\n",
    "\n",
    "plt.plot(age_calculated,salary_calculated,color='red', label=' Calculated Regression Line')\n",
    "\n",
    "plt.scatter(age,salary,color='blue',label='Actual Scatter Plot')\n",
    "\n",
    "plt.xlabel('Age')\n",
    "plt.ylabel('Salary')\n",
    "plt.legend()\n",
    "plt.show()"
   ]
  },
  {
   "cell_type": "code",
   "execution_count": 114,
   "metadata": {},
   "outputs": [
    {
     "name": "stdout",
     "output_type": "stream",
     "text": [
      "R2: 0.9174603174603175\n"
     ]
    }
   ],
   "source": [
    "# Let's find out R2\n",
    "\n",
    "r2_numer=0\n",
    "r2_denom=0\n",
    "\n",
    "for i in range(n):\n",
    "    salary_prediction = (m*age[i]) + c\n",
    "    r2_numer += (salary[i] - salary_prediction) ** 2\n",
    "    r2_denom += (salary[i] - salary_mean) ** 2\n",
    "    \n",
    "print(\"R2:\",1 - r2_numer/r2_denom)"
   ]
  },
  {
   "cell_type": "code",
   "execution_count": 123,
   "metadata": {},
   "outputs": [
    {
     "name": "stdout",
     "output_type": "stream",
     "text": [
      "r2_score: 0.9174603174603173\n"
     ]
    }
   ],
   "source": [
    "# Let's calculate using SCIKIT LEARN\n",
    "\n",
    "from sklearn.linear_model import LinearRegression\n",
    "from sklearn.metrics import mean_squared_error\n",
    "\n",
    "age=np.reshape(age,(8,1))\n",
    "salary=np.reshape(salary,(8,1))\n",
    "\n",
    "reg = LinearRegression()\n",
    "\n",
    "reg = reg.fit(age,salary)\n",
    "\n",
    "#salary_pred = reg.predict(age)\n",
    "\n",
    "#mse = mean_squared_error(salary,salary_pred)\n",
    "\n",
    "r2_score=reg.score(age,salary)\n",
    "\n",
    "#print('mse:',mse)\n",
    "print('r2_score:',r2_score)"
   ]
  }
 ],
 "metadata": {
  "kernelspec": {
   "display_name": "Python 3",
   "language": "python",
   "name": "python3"
  },
  "language_info": {
   "codemirror_mode": {
    "name": "ipython",
    "version": 3
   },
   "file_extension": ".py",
   "mimetype": "text/x-python",
   "name": "python",
   "nbconvert_exporter": "python",
   "pygments_lexer": "ipython3",
   "version": "3.7.3"
  }
 },
 "nbformat": 4,
 "nbformat_minor": 2
}
